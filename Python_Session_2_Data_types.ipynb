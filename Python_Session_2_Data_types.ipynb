{
 "cells": [
  {
   "cell_type": "markdown",
   "id": "1fce2fa0-29b2-4377-9b10-37ffb31a282b",
   "metadata": {},
   "source": [
    "## Data types ##\n",
    "\n",
    "- in python type declare not required\n",
    "- python will atomatically takes the type based on provided value\n",
    "- we have many data types available\n",
    "- The main data types are \n",
    "      - integer\n",
    "      - flot\n",
    "      - Boolean\n",
    "      - String\n",
    "\n",
    "- List\n",
    "- Dictionary\n",
    "- Tuple\n",
    "- Complex"
   ]
  },
  {
   "cell_type": "markdown",
   "id": "527d54a5-d724-4c4f-a244-b336496fbd0b",
   "metadata": {},
   "source": [
    "## integer ##"
   ]
  },
  {
   "cell_type": "code",
   "execution_count": 2,
   "id": "bdc51ae1-1c0a-4955-aef1-87d0ae0e4fba",
   "metadata": {},
   "outputs": [
    {
     "data": {
      "text/plain": [
       "int"
      ]
     },
     "execution_count": 2,
     "metadata": {},
     "output_type": "execute_result"
    }
   ],
   "source": [
    "n=100\n",
    "type(n)"
   ]
  },
  {
   "cell_type": "markdown",
   "id": "841ce272-9b2d-4d8b-9b98-4425d89ea867",
   "metadata": {},
   "source": [
    "- binary representation\n",
    "- octa representation\n",
    "- hexa representation"
   ]
  },
  {
   "cell_type": "markdown",
   "id": "c8747bb9-44d4-4146-926b-d1953a0a7032",
   "metadata": {},
   "source": [
    "## Binary ##\n",
    "\n",
    "- bi mans 2\n",
    "- so it requires 2 digits\n",
    "- Generally we have 0 1 2 3 4 5 6 7 8 9 \n",
    "- so it will represent with only 0 and 1\n",
    "- representation is 0b10, 0b0111, 0B111\n",
    "- wrong representation is 0b102, 0b007"
   ]
  },
  {
   "cell_type": "code",
   "execution_count": 3,
   "id": "06ee1dd8-caec-46fb-b192-dfff4cd3346b",
   "metadata": {},
   "outputs": [
    {
     "data": {
      "text/plain": [
       "5"
      ]
     },
     "execution_count": 3,
     "metadata": {},
     "output_type": "execute_result"
    }
   ],
   "source": [
    "0b101"
   ]
  },
  {
   "cell_type": "code",
   "execution_count": 4,
   "id": "ce80b1bd-4b5c-477a-afa7-043196888c4e",
   "metadata": {},
   "outputs": [
    {
     "data": {
      "text/plain": [
       "9"
      ]
     },
     "execution_count": 4,
     "metadata": {},
     "output_type": "execute_result"
    }
   ],
   "source": [
    "0b1001"
   ]
  },
  {
   "cell_type": "code",
   "execution_count": 5,
   "id": "0fc51fff-9891-49ec-bce1-1d0890a14d40",
   "metadata": {},
   "outputs": [],
   "source": [
    "import os"
   ]
  },
  {
   "cell_type": "code",
   "execution_count": 6,
   "id": "2019ba48-1d5d-402b-bb8b-0d440c47eb56",
   "metadata": {},
   "outputs": [
    {
     "data": {
      "text/plain": [
       "'C:\\\\Users\\\\BBambal\\\\Documents\\\\Naresh IT\\\\Python'"
      ]
     },
     "execution_count": 6,
     "metadata": {},
     "output_type": "execute_result"
    }
   ],
   "source": [
    "os.getcwd()"
   ]
  },
  {
   "cell_type": "code",
   "execution_count": 7,
   "id": "85cb9c55-e1e0-4dea-a3eb-1f0115063e9c",
   "metadata": {},
   "outputs": [],
   "source": [
    "# binary"
   ]
  },
  {
   "cell_type": "code",
   "execution_count": null,
   "id": "236a5de9-cd70-44a8-b770-ff2a0167203c",
   "metadata": {},
   "outputs": [],
   "source": [
    "8  4  2  1\n",
    "\n",
    "0  0  0  0    0\n",
    "0  0  0  1    1\n",
    "0  0  1  0    2\n",
    "0  0  1  1    3\n",
    "0  1  0  0    4\n",
    "0  1  0  1    5\n",
    "0  1  1  0    6\n",
    "0  1  1  1    7\n",
    "1  0  0  0    8\n",
    "1  0  0  1    9\n",
    "1  0  1  0    10\n",
    "1  0  1  1    11\n",
    "1  0  0  0    12\n",
    "1  1  0  1    13\n",
    "1  1  1  0    14\n",
    "1  1  1  1    15\n",
    "\n"
   ]
  },
  {
   "cell_type": "code",
   "execution_count": 9,
   "id": "5dc91552-1166-42eb-a52a-fb74d28cf8ec",
   "metadata": {},
   "outputs": [
    {
     "data": {
      "text/plain": [
       "59"
      ]
     },
     "execution_count": 9,
     "metadata": {},
     "output_type": "execute_result"
    }
   ],
   "source": [
    "0b111011"
   ]
  },
  {
   "cell_type": "markdown",
   "id": "020a8494-678c-4e85-8f29-17e3e60ebc97",
   "metadata": {},
   "source": [
    "## octa ##\n",
    "\n",
    "- octa mans 8\n",
    "- so it requires 8 digits\n",
    "- Generally we have 0 1 2 3 4 5 6 7 8 9 \n",
    "- so it will represent with only 0 1 2 3 4 5 6 7 \n",
    "- representation is 0o123, 0o012345, 0o7654321\n",
    "- wrong representation is 0o108, 0o987"
   ]
  },
  {
   "cell_type": "code",
   "execution_count": 10,
   "id": "02569b43-5b8c-4953-a628-859cd6431403",
   "metadata": {},
   "outputs": [
    {
     "data": {
      "text/plain": [
       "83"
      ]
     },
     "execution_count": 10,
     "metadata": {},
     "output_type": "execute_result"
    }
   ],
   "source": [
    "0o123"
   ]
  },
  {
   "cell_type": "code",
   "execution_count": 11,
   "id": "7d234221-89c1-4030-8670-2a2299428e73",
   "metadata": {},
   "outputs": [
    {
     "data": {
      "text/plain": [
       "668"
      ]
     },
     "execution_count": 11,
     "metadata": {},
     "output_type": "execute_result"
    }
   ],
   "source": [
    "0o1234"
   ]
  },
  {
   "cell_type": "markdown",
   "id": "7d81fb3c-61ce-4390-8311-2730d5e3e809",
   "metadata": {},
   "source": [
    "## hexa ##\n",
    "\n",
    "- hexa mans 16\n",
    "- so it requires 16 digits\n",
    "- Generally we have 0 1 2 3 4 5 6 7 8 9  A(10) B(11) C(12) D(13) E(14) F(15) G(16)\n",
    "- so it will represent with only 0-9 A-F\n",
    "- representation is 0xF9, 0x0123abc, 0xabc\n",
    "- wrong representation is 0xGH, 0xABCDEFG"
   ]
  },
  {
   "cell_type": "code",
   "execution_count": 12,
   "id": "abb961bd-3c06-49ab-ba8e-d0e234c30873",
   "metadata": {},
   "outputs": [
    {
     "data": {
      "text/plain": [
       "2748"
      ]
     },
     "execution_count": 12,
     "metadata": {},
     "output_type": "execute_result"
    }
   ],
   "source": [
    "0xabc"
   ]
  },
  {
   "cell_type": "code",
   "execution_count": 13,
   "id": "971ca58f-b3c1-4867-8a68-fcfa4f390553",
   "metadata": {},
   "outputs": [
    {
     "data": {
      "text/plain": [
       "4671"
      ]
     },
     "execution_count": 13,
     "metadata": {},
     "output_type": "execute_result"
    }
   ],
   "source": [
    "0x123f"
   ]
  },
  {
   "cell_type": "markdown",
   "id": "14710964-5b72-4e6c-ab4b-1e3c314080d5",
   "metadata": {},
   "source": [
    "## float ##"
   ]
  },
  {
   "cell_type": "code",
   "execution_count": 17,
   "id": "352de630-cc4c-4852-945e-8369d6307d7b",
   "metadata": {},
   "outputs": [
    {
     "data": {
      "text/plain": [
       "float"
      ]
     },
     "execution_count": 17,
     "metadata": {},
     "output_type": "execute_result"
    }
   ],
   "source": [
    "n2=1005.00\n",
    "type(n2)"
   ]
  },
  {
   "cell_type": "markdown",
   "id": "e052a9d8-e25f-4bdf-bce3-d405980ece58",
   "metadata": {},
   "source": [
    "int"
   ]
  },
  {
   "cell_type": "code",
   "execution_count": 18,
   "id": "96e5153d-394a-4bca-b952-881a5bb43bef",
   "metadata": {},
   "outputs": [
    {
     "data": {
      "text/plain": [
       "(10.0, 100.0, 1000.0, 10000.0)"
      ]
     },
     "execution_count": 18,
     "metadata": {},
     "output_type": "execute_result"
    }
   ],
   "source": [
    "1e1, 1e2, 1e3, 1e4"
   ]
  },
  {
   "cell_type": "code",
   "execution_count": 19,
   "id": "928b27ff-c456-470a-a9b8-ed671722ec79",
   "metadata": {},
   "outputs": [
    {
     "data": {
      "text/plain": [
       "24000.0"
      ]
     },
     "execution_count": 19,
     "metadata": {},
     "output_type": "execute_result"
    }
   ],
   "source": [
    "24e3"
   ]
  },
  {
   "cell_type": "code",
   "execution_count": 20,
   "id": "d2f86bcb-dc44-41ec-ae1c-fc8c5c428be8",
   "metadata": {},
   "outputs": [
    {
     "data": {
      "text/plain": [
       "(10.0, 100.0, 1000.0, 10000.0)"
      ]
     },
     "execution_count": 20,
     "metadata": {},
     "output_type": "execute_result"
    }
   ],
   "source": [
    "1e+1, 1e+2, 1e+3, 1e+4"
   ]
  },
  {
   "cell_type": "code",
   "execution_count": 21,
   "id": "e7a274c0-1cdb-4ca9-ab8f-411076ed6133",
   "metadata": {},
   "outputs": [
    {
     "data": {
      "text/plain": [
       "(0.1, 0.01, 0.001, 0.0001)"
      ]
     },
     "execution_count": 21,
     "metadata": {},
     "output_type": "execute_result"
    }
   ],
   "source": [
    "1e-1, 1e-2, 1e-3, 1e-4"
   ]
  },
  {
   "cell_type": "code",
   "execution_count": 23,
   "id": "35c7c311-3c64-44db-9b98-e204a3b2f312",
   "metadata": {},
   "outputs": [
    {
     "data": {
      "text/plain": [
       "0.024"
      ]
     },
     "execution_count": 23,
     "metadata": {},
     "output_type": "execute_result"
    }
   ],
   "source": [
    "24e-3 # 24/1000= 0.024"
   ]
  },
  {
   "cell_type": "markdown",
   "id": "a1aaff72-f81f-4921-9a05-e977d1de9dc0",
   "metadata": {},
   "source": [
    "- positive sign means multiply\n",
    "- negative sign means divide"
   ]
  },
  {
   "cell_type": "markdown",
   "id": "682459a2-b2e2-474f-8a18-1f4bf332241d",
   "metadata": {},
   "source": [
    "## strings ##"
   ]
  },
  {
   "cell_type": "markdown",
   "id": "d0100535-f659-471e-8e08-32ef6e959863",
   "metadata": {},
   "source": [
    "- strings are used to represent the english characters generally\n",
    "- strings will reprent in\n",
    "  \n",
    "        - single quotes\n",
    "        - double quotes\n",
    "        - triple quotes"
   ]
  },
  {
   "cell_type": "code",
   "execution_count": 24,
   "id": "bf078876-94f2-4836-a3fd-c2ac0eea11f3",
   "metadata": {},
   "outputs": [
    {
     "data": {
      "text/plain": [
       "str"
      ]
     },
     "execution_count": 24,
     "metadata": {},
     "output_type": "execute_result"
    }
   ],
   "source": [
    "name='python'\n",
    "type(name)"
   ]
  },
  {
   "cell_type": "code",
   "execution_count": 25,
   "id": "a03abcac-a8e1-4a82-8094-22c77e75b1db",
   "metadata": {},
   "outputs": [
    {
     "data": {
      "text/plain": [
       "str"
      ]
     },
     "execution_count": 25,
     "metadata": {},
     "output_type": "execute_result"
    }
   ],
   "source": [
    "name1=\"Bhagya\"\n",
    "type(name1)"
   ]
  },
  {
   "cell_type": "code",
   "execution_count": 26,
   "id": "b38141d9-a7a8-4d8c-8ae9-de93df2e467c",
   "metadata": {},
   "outputs": [
    {
     "data": {
      "text/plain": [
       "str"
      ]
     },
     "execution_count": 26,
     "metadata": {},
     "output_type": "execute_result"
    }
   ],
   "source": [
    "name2='10'\n",
    "type(name2)"
   ]
  },
  {
   "cell_type": "code",
   "execution_count": 28,
   "id": "ff75b733-37e1-4970-acb8-7b2b1178b62f",
   "metadata": {},
   "outputs": [
    {
     "data": {
      "text/plain": [
       "str"
      ]
     },
     "execution_count": 28,
     "metadata": {},
     "output_type": "execute_result"
    }
   ],
   "source": [
    "email_id='bhagya2@gmil.com'\n",
    "type(email_id)"
   ]
  },
  {
   "cell_type": "markdown",
   "id": "a406598c-cb3a-4880-a655-37a46c5d8ed2",
   "metadata": {},
   "source": [
    "**RED COLOR MEANS STRINGS**\n",
    "\n",
    "**GREEN COLOR MEANS KEYWORDS**\n",
    "\n",
    "**BLACK COLOR MEANS VARIABLE**"
   ]
  },
  {
   "cell_type": "code",
   "execution_count": 29,
   "id": "96e35d1c-7328-4047-9229-9f3b5d931b8c",
   "metadata": {},
   "outputs": [],
   "source": [
    "name='python'\n",
    "name1=\"python\""
   ]
  },
  {
   "cell_type": "code",
   "execution_count": 30,
   "id": "3b0f716f-16fd-41fa-84e4-5a624dabcf9a",
   "metadata": {},
   "outputs": [
    {
     "data": {
      "text/plain": [
       "'python'"
      ]
     },
     "execution_count": 30,
     "metadata": {},
     "output_type": "execute_result"
    }
   ],
   "source": [
    "name"
   ]
  },
  {
   "cell_type": "code",
   "execution_count": 31,
   "id": "5c6f4c76-1e21-4893-91df-d10cf6e0a2bc",
   "metadata": {},
   "outputs": [
    {
     "data": {
      "text/plain": [
       "'python'"
      ]
     },
     "execution_count": 31,
     "metadata": {},
     "output_type": "execute_result"
    }
   ],
   "source": [
    "name1"
   ]
  },
  {
   "cell_type": "markdown",
   "id": "6bd5f9ae-5ba3-4f2e-a88c-2ba8cd052e28",
   "metadata": {},
   "source": [
    "- output always in single quotes"
   ]
  },
  {
   "cell_type": "code",
   "execution_count": 34,
   "id": "7bc69d78-ea42-410d-a9ba-ee79f952e6ae",
   "metadata": {},
   "outputs": [
    {
     "name": "stdout",
     "output_type": "stream",
     "text": [
      "python\n"
     ]
    }
   ],
   "source": [
    "print(name)"
   ]
  },
  {
   "cell_type": "markdown",
   "id": "96093a42-631c-42c2-be7b-29b78d8336d9",
   "metadata": {},
   "source": [
    "- whenever you print quotes will not visible"
   ]
  },
  {
   "cell_type": "code",
   "execution_count": 35,
   "id": "90f3b2b5-b70b-4840-a3cb-61c382604e5d",
   "metadata": {},
   "outputs": [
    {
     "name": "stdout",
     "output_type": "stream",
     "text": [
      "i like 'python'\n"
     ]
    }
   ],
   "source": [
    "name=\"i like 'python'\"\n",
    "print(name)"
   ]
  },
  {
   "cell_type": "code",
   "execution_count": 36,
   "id": "352742d3-7198-4f18-bbec-c94757983e4f",
   "metadata": {},
   "outputs": [
    {
     "name": "stdout",
     "output_type": "stream",
     "text": [
      "i like \"python\"\n"
     ]
    }
   ],
   "source": [
    "str='i like \"python\"'\n",
    "print(str)"
   ]
  },
  {
   "cell_type": "markdown",
   "id": "a42447e9-8f53-4e11-8228-e89ab5349a5e",
   "metadata": {},
   "source": [
    "- Entire string in duble quotes the highilated word in single quote vice versa"
   ]
  },
  {
   "cell_type": "markdown",
   "id": "1e7f2b99-23bb-4801-b153-c78abbfc8a7e",
   "metadata": {},
   "source": [
    "# ***Triple quotes*** #\n",
    "\n",
    "- Triple quotes is not used for coding\n",
    "- Triple quotes is used to provide the information to the user\n",
    "- In order to provide the nformation in jupyter notebook we will Markdown\n",
    "- Invscode or pycharm there is no markdown option\n",
    "- Thatswhy the world start used to write the information in triple quotes\n",
    "- The entire process is called **Doc String**"
   ]
  },
  {
   "cell_type": "markdown",
   "id": "410ad34e-f5fd-4bd5-ba3c-8a9b741876a7",
   "metadata": {},
   "source": [
    "bool"
   ]
  },
  {
   "cell_type": "code",
   "execution_count": 38,
   "id": "3ee906b3-38b9-46ca-99cf-2a841e1b23e0",
   "metadata": {},
   "outputs": [],
   "source": [
    "true=\"True\"\n",
    "false= False"
   ]
  },
  {
   "cell_type": "code",
   "execution_count": 39,
   "id": "c6e6f2f3-cfdd-4619-b6b2-14e4bcc78ee3",
   "metadata": {},
   "outputs": [
    {
     "data": {
      "text/plain": [
       "str"
      ]
     },
     "execution_count": 39,
     "metadata": {},
     "output_type": "execute_result"
    }
   ],
   "source": [
    "type(true)"
   ]
  },
  {
   "cell_type": "code",
   "execution_count": 40,
   "id": "c616c97c-f02c-46de-b69e-9af09763fca0",
   "metadata": {},
   "outputs": [
    {
     "data": {
      "text/plain": [
       "bool"
      ]
     },
     "execution_count": 40,
     "metadata": {},
     "output_type": "execute_result"
    }
   ],
   "source": [
    "type(false)"
   ]
  },
  {
   "cell_type": "code",
   "execution_count": null,
   "id": "142c5d17-77b2-4c9c-9cee-8aa14f90afb7",
   "metadata": {},
   "outputs": [],
   "source": [
    "true=\"True\"\n",
    "false=False\n",
    "\n",
    "# true and false are variables\n",
    "# type true is String\n",
    "# type false is boolean"
   ]
  },
  {
   "cell_type": "code",
   "execution_count": null,
   "id": "6f49a9a5-4584-4a9e-9242-0799905e67b8",
   "metadata": {},
   "outputs": [],
   "source": []
  }
 ],
 "metadata": {
  "kernelspec": {
   "display_name": "Python 3 (ipykernel)",
   "language": "python",
   "name": "python3"
  },
  "language_info": {
   "codemirror_mode": {
    "name": "ipython",
    "version": 3
   },
   "file_extension": ".py",
   "mimetype": "text/x-python",
   "name": "python",
   "nbconvert_exporter": "python",
   "pygments_lexer": "ipython3",
   "version": "3.11.7"
  }
 },
 "nbformat": 4,
 "nbformat_minor": 5
}
